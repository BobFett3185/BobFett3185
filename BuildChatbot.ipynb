{
  "nbformat": 4,
  "nbformat_minor": 0,
  "metadata": {
    "colab": {
      "provenance": [],
      "include_colab_link": true
    },
    "kernelspec": {
      "name": "python3",
      "display_name": "Python 3"
    },
    "language_info": {
      "name": "python"
    }
  },
  "cells": [
    {
      "cell_type": "markdown",
      "metadata": {
        "id": "view-in-github",
        "colab_type": "text"
      },
      "source": [
        "<a href=\"https://colab.research.google.com/github/BobFett3185/BobFett3185/blob/main/BuildChatbot.ipynb\" target=\"_parent\"><img src=\"https://colab.research.google.com/assets/colab-badge.svg\" alt=\"Open In Colab\"/></a>"
      ]
    },
    {
      "cell_type": "code",
      "execution_count": null,
      "metadata": {
        "id": "iTsIM40MeFOJ"
      },
      "outputs": [],
      "source": [
        "from google.colab import userdata\n",
        "\n",
        "\n",
        "key = userdata.get('key')\n",
        "endpoint = \"https://generativelanguage.googleapis.com/v1beta/\""
      ]
    },
    {
      "cell_type": "code",
      "source": [],
      "metadata": {
        "id": "d-3_eFaREUZ4"
      },
      "execution_count": null,
      "outputs": []
    },
    {
      "cell_type": "code",
      "source": [
        "from openai import OpenAI\n",
        "\n",
        "client = OpenAI(base_url=endpoint, api_key=key)"
      ],
      "metadata": {
        "id": "5Zk_P-3kCsNH"
      },
      "execution_count": null,
      "outputs": []
    },
    {
      "cell_type": "code",
      "source": [
        "response = client.chat.completions.create(\n",
        "    model=\"gemini-2.0-flash\",\n",
        "    messages=[\n",
        "        {\"role\": \"system\", \"content\": \"You are a helpful assistant for a lawyer.\"},\n",
        "        {\n",
        "            \"role\":\"user\",\n",
        "            \"content\":\"tell me what law prohibits unreasonable search as seizure and explain some cases in which this precedent was set. \"\n",
        "        }\n",
        "    ],\n",
        "    stream=True\n",
        ")"
      ],
      "metadata": {
        "id": "5gqx7lWGC-jl"
      },
      "execution_count": null,
      "outputs": []
    },
    {
      "cell_type": "code",
      "source": [
        "for chunk in response:\n",
        "  print(chunk.choices[0].delta.content, end='')"
      ],
      "metadata": {
        "colab": {
          "base_uri": "https://localhost:8080/"
        },
        "id": "3Zyj7kt2Dq3D",
        "outputId": "edfdfee2-321b-4505-d479-964a7470fcde"
      },
      "execution_count": null,
      "outputs": [
        {
          "output_type": "stream",
          "name": "stdout",
          "text": [
            "Okay, I can help with that. Here's the information you requested regarding the law prohibiting unreasonable search and seizure and some key cases that established the precedent:\n",
            "\n",
            "**The Law Prohibiting Unreasonable Search and Seizure**\n",
            "\n",
            "The law that prohibits unreasonable searches and seizures in the United States is the **Fourth Amendment** to the U.S. Constitution.\n",
            "\n",
            "**Text of the Fourth Amendment:**\n",
            "\n",
            "\"The right of the people to be secure in their persons, houses, papers, and effects, against unreasonable searches and seizures, shall not be violated, and no Warrants shall issue, but upon probable cause, supported by Oath or affirmation, and particularly describing the place to be searched, and the persons or things to be seized.\"\n",
            "\n",
            "**Key Concepts & What the Fourth Amendment Protects:**\n",
            "\n",
            "*   **Reasonable Expectation of Privacy:** The Fourth Amendment protects individuals from government intrusion into areas where they have a \"reasonable expectation of privacy.\" This isn't just a subjective feeling; it must be an expectation that society is prepared to recognize as reasonable.\n",
            "*   **Search:** A search occurs when the government intrudes upon a person's reasonable expectation of privacy.\n",
            "*   **Seizure:** A seizure occurs when the government meaningfully interferes with an individual's possessory interests in property (e.g., taking property) or when a person's freedom of movement is restrained (e.g., an arrest).\n",
            "*   **Probable Cause:**  A warrant must be based on probable cause. This means there must be a reasonable belief, based on facts, that a crime has been committed or that evidence of a crime will be found in the place to be searched.\n",
            "*   **Warrant Requirement (with exceptions):**  Generally, a search or seizure is considered unreasonable without a warrant. The warrant must be issued by a neutral and detached magistrate (judge) and must particularly describe the place to be searched and the items or persons to be seized.\n",
            "*   **Exclusionary Rule:** Evidence obtained in violation of the Fourth Amendment is generally inadmissible in a criminal trial. This is known as the Exclusionary Rule. Its purpose is to deter unlawful police conduct.\n",
            "\n",
            "**Key Cases Establishing Fourth Amendment Precedent:**\n",
            "\n",
            "Here are some landmark cases that have shaped the interpretation and application of the Fourth Amendment:\n",
            "\n",
            "*   **Weeks v. United States, 232 U.S. 383 (1914):**  This case established the **Exclusionary Rule** in federal cases.  The Court held that evidence obtained through an illegal search and seizure was inadmissible in federal court. This was the first major step in enforcing the Fourth Amendment.\n",
            "\n",
            "*   **Mapp v. Ohio, 367 U.S. 643 (1961):**  This case extended the Exclusionary Rule to **state court proceedings**.  The Court held that illegally obtained evidence could not be used in a state criminal trial, incorporating the Fourth Amendment's protections against the states through the Fourteenth Amendment.\n",
            "\n",
            "*   **Katz v. United States, 389 U.S. 347 (1967):**  This case defined the concept of a \"reasonable expectation of privacy.\" The Court ruled that the government's placement of a wiretap on a public phone booth to listen to Katz's conversations was a violation of his Fourth Amendment rights, even though there was no physical intrusion into the phone booth itself. The Fourth Amendment protects people, not places.\n",
            "\n",
            "*   **Terry v. Ohio, 392 U.S. 1 (1968):**  This case established the \"Terry Stop\" or \"stop and frisk\" doctrine. The Court held that a police officer may stop a person if they have a \"reasonable suspicion\" of criminal activity and may frisk the person for weapons if they have a reasonable suspicion that the person is armed and dangerous.  This is a lower standard than probable cause.\n",
            "\n",
            "*   **California v. Greenwood, 486 U.S. 35 (1988):**  This case addressed the issue of trash searches. The Court held that there is no reasonable expectation of privacy in garbage placed on the curb for collection. Therefore, police can search trash without a warrant.\n",
            "\n",
            "*   **Riley v. California, 573 U.S. 373 (2014):**  This case addressed the search of cell phones incident to arrest. The Court held that police generally need a warrant to search the contents of a cell phone seized during an arrest.  Cell phones contain vast amounts of personal information, and a search is not automatically justified as part of a search incident to arrest.\n",
            "\n",
            "**Important Considerations:**\n",
            "\n",
            "*   **Exceptions to the Warrant Requirement:** There are numerous exceptions to the warrant requirement, including:\n",
            "    *   **Search Incident to a Lawful Arrest:**  Police can search a person and the area within their immediate control during a lawful arrest.\n",
            "    *   **Consent:**  If a person voluntarily consents to a search, no warrant is required.\n",
            "    *   **Plain View:** If police are lawfully in a place and see evidence of a crime in plain view, they can seize it.\n",
            "    *   **Exigent Circumstances:** If there is an emergency situation (e.g., someone is in danger, evidence is being destroyed), police can conduct a search without a warrant.\n",
            "    *   **Automobile Exception:**  Police can search a vehicle without a warrant if they have probable cause to believe it contains evidence of a crime.\n",
            "\n",
            "**Disclaimer:** This information is for educational purposes only and should not be considered legal advice. Laws and legal interpretations can change, and the specific facts of a case can significantly affect the outcome. You should always consult with a qualified attorney for advice regarding your specific situation.\n"
          ]
        }
      ]
    },
    {
      "cell_type": "markdown",
      "source": [],
      "metadata": {
        "id": "SAF5gY15CX1t"
      }
    }
  ]
}